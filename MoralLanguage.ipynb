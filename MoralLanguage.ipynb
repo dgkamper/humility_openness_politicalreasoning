{
 "cells": [
  {
   "cell_type": "code",
   "execution_count": 6,
   "id": "c237ed21-fd65-4d99-8ba2-5f4c87a87124",
   "metadata": {},
   "outputs": [],
   "source": [
    "import pandas as pd\n",
    "from textblob import TextBlob\n",
    "import matplotlib.pyplot as plt\n",
    "import math\n",
    "import numpy as nps"
   ]
  },
  {
   "cell_type": "code",
   "execution_count": 5,
   "id": "015ced31-8cbd-4e55-920f-1a37eb67aee9",
   "metadata": {},
   "outputs": [
    {
     "data": {
      "text/plain": [
       "(   ID                                          Paragraph  LatentClasses  \\\n",
       " 0   3  I strongly support abortion as a basic human r...              1   \n",
       " 1   7  I believe Affirmative Action is wrong and shou...              1   \n",
       " 2  10  i think that standardized testing should be re...              1   \n",
       " 3  12  Legalizing drugs. \\n\\nI don't think that legal...              1   \n",
       " 4  14  Abortion should be legal because it is apart o...              1   \n",
       " \n",
       "   LatentClassNames  \n",
       " 0           apaths  \n",
       " 1           apaths  \n",
       " 2           apaths  \n",
       " 3           apaths  \n",
       " 4           apaths  ,\n",
       "    ID                                          Paragraph  LatentClasses  \\\n",
       " 0   3  I strongly support abortion as a basic human r...              1   \n",
       " 1   7  I believe Affirmative Action is wrong and shou...              1   \n",
       " 2  10  i think that standardized testing should be re...              1   \n",
       " 3  12  Legalizing drugs. \\n\\nI don't think that legal...              1   \n",
       " 4  14  Abortion should be legal because it is apart o...              1   \n",
       " \n",
       "   LatentClassNames  \n",
       " 0           apaths  \n",
       " 1           apaths  \n",
       " 2           apaths  \n",
       " 3           apaths  \n",
       " 4           apaths  ,\n",
       "    ID                                          Paragraph  LatentClasses  \\\n",
       " 0   9  For mandatory vaccines, I hold this position b...              2   \n",
       " 1  11  Personally, I am in agreement with standardize...              2   \n",
       " 2  16  I oppose defunding the police because I feel i...              2   \n",
       " 3  21  I think most drugs should be decriminalized. I...              2   \n",
       " 4  27  Mandatory vaccines.\\r\\nIt makes sense to manda...              2   \n",
       " \n",
       "   LatentClassNames  \n",
       " 0          zealots  \n",
       " 1          zealots  \n",
       " 2          zealots  \n",
       " 3          zealots  \n",
       " 4          zealots  )"
      ]
     },
     "execution_count": 5,
     "metadata": {},
     "output_type": "execute_result"
    }
   ],
   "source": [
    "# Load the data from the CSV files\n",
    "apaths_df = pd.read_csv('/Users/dgkamper/DGK_Lab/Collaborations/Intellectual Humility/middlepeople/Dataset/Apaths.csv')\n",
    "sages_df = pd.read_csv('/Users/dgkamper/DGK_Lab/Collaborations/Intellectual Humility/middlepeople/Dataset/Apaths.csv')\n",
    "zealots_df = pd.read_csv('/Users/dgkamper/DGK_Lab/Collaborations/Intellectual Humility/middlepeople/Dataset/Zealots.csv')\n",
    "\n",
    "# Check Upload\n",
    "(apaths_df.head(), sages_df.head(), zealots_df.head())"
   ]
  },
  {
   "cell_type": "code",
   "execution_count": null,
   "id": "378265a9-fb7b-4bc1-a4c7-45db39f335a4",
   "metadata": {},
   "outputs": [],
   "source": [
    "# Calculate the overall mean and standard error for each group\n",
    "\n",
    "apaths_moral_mean = 7.985849056603773\n",
    "sages_moral_mean = 10.599045346062052\n",
    "zealots_moral_mean = 12.196428571428571\n",
    "\n",
    "overall_means = [apaths_moral_mean, sages_moral_mean, zealots_moral_mean]\n",
    "overall_sems = [0.4065084801427279, 0.3435481037233035, 0.7582342261886155]\n",
    "\n",
    "# Creating the plot with error bars for overall mean moral language use\n",
    "plt.figure(figsize=(8, 6))\n",
    "plt.bar(groups, overall_means, yerr=overall_sems, color=['blue', 'green', 'red'], capsize=5)\n",
    "plt.title('Overall Mean Moral Language Use Per Group')\n",
    "plt.xlabel('Group')\n",
    "plt.ylabel('Mean Count of Moral Words')\n",
    "plt.ylim(0, max(overall_means) + max(overall_sems) + 1)  # Adjust ylim to accommodate error bars\n",
    "\n",
    "# Show the plot\n",
    "plt.show()"
   ]
  }
 ],
 "metadata": {
  "kernelspec": {
   "display_name": "Python 3 (ipykernel)",
   "language": "python",
   "name": "python3"
  },
  "language_info": {
   "codemirror_mode": {
    "name": "ipython",
    "version": 3
   },
   "file_extension": ".py",
   "mimetype": "text/x-python",
   "name": "python",
   "nbconvert_exporter": "python",
   "pygments_lexer": "ipython3",
   "version": "3.12.3"
  }
 },
 "nbformat": 4,
 "nbformat_minor": 5
}
